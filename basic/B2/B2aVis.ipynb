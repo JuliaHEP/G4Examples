{
 "cells": [
  {
   "cell_type": "markdown",
   "metadata": {},
   "source": [
    "# Basic/B2a Event Display Example\n",
    "\n",
    "In this example is based on the Geant4 basic/B2 example of the\n",
    "Geant4 distribution. It is a simple example that shows how to\n",
    "interact with the Geant4 classes."
   ]
  },
  {
   "cell_type": "markdown",
   "metadata": {},
   "source": [
    "## Loading the necessary Julia modules\n",
    "Load the `Geant4` and `Geant4.SystemOfUnits` modules.\n",
    "In order to trigger the load of the G4Vis extension we need to load the\n",
    "following modules: `GLMakie`, `Rotations`, `LinearAlgebra`, `IGLWrap_jll`"
   ]
  },
  {
   "cell_type": "code",
   "execution_count": null,
   "metadata": {},
   "outputs": [],
   "source": [
    "using Geant4\n",
    "using Geant4.SystemOfUnits\n",
    "using CairoMakie, Rotations, LinearAlgebra, IGLWrap_jll  # to force loading G4Vis extension\n",
    "import DisplayAs: PNG"
   ]
  },
  {
   "cell_type": "markdown",
   "metadata": {},
   "source": [
    "## Define Detector Parameters structure\n",
    "The `B2aDetector` structure is defined with the default detector parameters. We include the B2aDetector.jl file not to clutter the example."
   ]
  },
  {
   "cell_type": "code",
   "execution_count": null,
   "metadata": {},
   "outputs": [],
   "source": [
    "include(joinpath(@__DIR__, \"B2aDetector.jl\"))"
   ]
  },
  {
   "cell_type": "markdown",
   "metadata": {},
   "source": [
    "## Particle Gun initialization"
   ]
  },
  {
   "cell_type": "code",
   "execution_count": null,
   "metadata": {},
   "outputs": [],
   "source": [
    "particlegun = G4JLGunGenerator(particle = \"proton\",\n",
    "                               energy = 3GeV,\n",
    "                               direction = G4ThreeVector(0,0,1),\n",
    "                               position = G4ThreeVector(0,0,-2940.0));"
   ]
  },
  {
   "cell_type": "markdown",
   "metadata": {},
   "source": [
    "## Event Display\n",
    "To setup the event display we need to create an instance of the `G4JLEventDisplay` type. The file `B2aVisSettings.jl` contains\n",
    "the settings for the visualization."
   ]
  },
  {
   "cell_type": "code",
   "execution_count": null,
   "metadata": {},
   "outputs": [],
   "source": [
    "evtdisplay = G4JLEventDisplay(joinpath(@__DIR__, \"B2aVisSettings.jl\"));"
   ]
  },
  {
   "cell_type": "markdown",
   "metadata": {},
   "source": [
    " ## Create the application"
   ]
  },
  {
   "cell_type": "code",
   "execution_count": null,
   "metadata": {},
   "outputs": [],
   "source": [
    "app = G4JLApplication(;detector = B2aDetector(nChambers=5),          ## detector with parameters\n",
    "                       generator = particlegun,                      ## primary particle generator\n",
    "                       physics_type = FTFP_BERT,                     ## what physics list to instantiate\n",
    "                       evtdisplay =  evtdisplay,                     ## detector and event visualization\n",
    "                      );\n",
    "# wait_for_key(prompt) = (print(stdout, prompt); read(stdin, 1); nothing)"
   ]
  },
  {
   "cell_type": "markdown",
   "metadata": {},
   "source": [
    "## Configure, Initialize and Run"
   ]
  },
  {
   "cell_type": "code",
   "execution_count": null,
   "metadata": {},
   "outputs": [],
   "source": [
    "configure(app)\n",
    "initialize(app)"
   ]
  },
  {
   "cell_type": "markdown",
   "metadata": {},
   "source": [
    "Display the detector geometry at this point"
   ]
  },
  {
   "cell_type": "code",
   "execution_count": null,
   "metadata": {},
   "outputs": [],
   "source": [
    "beamOn(app,0)  ## Needed to really initialize\n",
    "PNG(evtdisplay.figure)"
   ]
  },
  {
   "cell_type": "markdown",
   "metadata": {},
   "source": [
    "Display the detector geometry with the first event"
   ]
  },
  {
   "cell_type": "code",
   "execution_count": null,
   "metadata": {},
   "outputs": [],
   "source": [
    "beamOn(app,1)\n",
    "PNG(evtdisplay.figure)"
   ]
  },
  {
   "cell_type": "markdown",
   "metadata": {},
   "source": [
    "Display the detector geometry with the second event"
   ]
  },
  {
   "cell_type": "code",
   "execution_count": null,
   "metadata": {},
   "outputs": [],
   "source": [
    "beamOn(app,1)\n",
    "PNG(evtdisplay.figure)"
   ]
  },
  {
   "cell_type": "markdown",
   "metadata": {},
   "source": [
    "---\n",
    "\n",
    "*This notebook was generated using [Literate.jl](https://github.com/fredrikekre/Literate.jl).*"
   ]
  },
  {
   "cell_type": "markdown",
   "metadata": {},
   "source": []
  },
  {
   "cell_type": "markdown",
   "metadata": {},
   "source": []
  },
  {
   "cell_type": "markdown",
   "metadata": {},
   "source": []
  }
 ],
 "metadata": {
  "kernelspec": {
   "display_name": "Julia 1.11.1",
   "language": "julia",
   "name": "julia-1.11"
  },
  "language_info": {
   "file_extension": ".jl",
   "mimetype": "application/julia",
   "name": "julia",
   "version": "1.11.1"
  }
 },
 "nbformat": 4,
 "nbformat_minor": 3
}
