{
 "cells": [
  {
   "cell_type": "markdown",
   "metadata": {},
   "source": [
    "# Basic/B2a Example\n",
    "It is equivalent to the B2a example in Geant4 but re-written with a new more Julia friendly interface. The core of the example is to create an instance of the type `G4JLApplication` with all the essential elements defined (detector and geometry, physics list, primary particles generator, actions, simulated data being accumulated, mapping of logical volumes to sensitive detectors, etc.) \n",
    "\n",
    "#### Import the `Geant4` and `Geant4.SystemOfUnits` modules"
   ]
  },
  {
   "cell_type": "code",
   "execution_count": 1,
   "metadata": {},
   "outputs": [],
   "source": [
    "using Geant4\n",
    "using Geant4.SystemOfUnits\n",
    "using Printf, GeometryBasics"
   ]
  },
  {
   "cell_type": "markdown",
   "metadata": {},
   "source": [
    "#### Define the Detector Parameters and Geometry\n",
    "We include a file to define de structure `B2aDetector` and the construction method `B2aConstruct` to make the notebook more manageable"
   ]
  },
  {
   "cell_type": "code",
   "execution_count": 2,
   "metadata": {},
   "outputs": [],
   "source": [
    "include(joinpath(@__DIR__, \"DetectorB2a.jl\"))"
   ]
  },
  {
   "cell_type": "markdown",
   "metadata": {},
   "source": [
    "#### Define TrackerHit structure"
   ]
  },
  {
   "cell_type": "code",
   "execution_count": 3,
   "metadata": {},
   "outputs": [],
   "source": [
    "struct TrackerHit\n",
    "    trackID::Int32\n",
    "    chamberNb::Int32\n",
    "    edep::Float64\n",
    "    pos::Point3{Float64}\n",
    "end\n",
    "function Base.show(io::IO, hit::TrackerHit)\n",
    "    (;trackID, chamberNb, edep, pos) = hit\n",
    "    @printf(io, \"\\ntrackID: %3d chamberNb: %2d Edep: %.3f MeV Position: (%3f, %3f, %3f)\", trackID, chamberNb, edep/MeV, pos...) \n",
    "end"
   ]
  },
  {
   "cell_type": "markdown",
   "metadata": {},
   "source": [
    "#### Define Sensitive Detector for the chambers\n",
    "It implies to define a data structure where to accumulate the TrackerHits for each event, and the callback functions:\n",
    "- `intilialize` called at the beginning of each event\n",
    "- `endOfEvent` called at the end of the event\n",
    "- `processHit`  called for each hit (step ending in the associated logical volume) to be processed\n",
    "\n",
    "all of the callback functions get the declared data structure as first argument "
   ]
  },
  {
   "cell_type": "code",
   "execution_count": 4,
   "metadata": {},
   "outputs": [
    {
     "data": {
      "text/plain": [
       "_processHits (generic function with 1 method)"
      ]
     },
     "execution_count": 4,
     "metadata": {},
     "output_type": "execute_result"
    }
   ],
   "source": [
    "#---SD collected data------------------------------------------------------------------------------\n",
    "struct B2aSDData <: G4JLSDData\n",
    "    trackerHits::Vector{TrackerHit}\n",
    "    B2aSDData() = new([])\n",
    "end\n",
    "#---Initialize method------------------------------------------------------------------------------\n",
    "function _initialize(::G4HCofThisEvent, data::B2aSDData)::Nothing\n",
    "    empty!(data.trackerHits)\n",
    "    return\n",
    "end\n",
    "#---End of Event method----------------------------------------------------------------------------\n",
    "function _endOfEvent(::G4HCofThisEvent, data::B2aSDData)::Nothing\n",
    "    return\n",
    "end\n",
    "#---Process Hit method-----------------------------------------------------------------------------\n",
    "function _processHits(step::G4Step, ::G4TouchableHistory, data::B2aSDData)::Bool\n",
    "    edep = step |> GetTotalEnergyDeposit\n",
    "    edep <  0. && return false\n",
    "    pos = step |> GetPostStepPoint |> GetPosition\n",
    "    push!(data.trackerHits, TrackerHit(step |> GetTrack |> GetTrackID,\n",
    "                                       step |> GetPreStepPoint |> GetTouchable |> GetCopyNumber,\n",
    "                                       edep,\n",
    "                                       Point3{Float64}(x(pos),y(pos),z(pos))))\n",
    "    return true\n",
    "end"
   ]
  },
  {
   "cell_type": "markdown",
   "metadata": {},
   "source": [
    "And create a specialized instance of `G4JLSensitiveDetector` "
   ]
  },
  {
   "cell_type": "code",
   "execution_count": 5,
   "metadata": {},
   "outputs": [],
   "source": [
    "#---Create SD instance-----------------------------------------------------------------------------\n",
    "chamber_SD = G4JLSensitiveDetector(\"Chamber_SD\", B2aSDData();           # SD name an associated data are mandatory\n",
    "                                    processhits_method=_processHits,    # process hist method (also mandatory)\n",
    "                                    initialize_method=_initialize,      # intialize method\n",
    "                                    endofevent_method=_endOfEvent);     # end of event method\n"
   ]
  },
  {
   "cell_type": "markdown",
   "metadata": {},
   "source": [
    "#### Define an End Event Action\n",
    "This is collect all results each event. Only printing at this time. "
   ]
  },
  {
   "cell_type": "code",
   "execution_count": 6,
   "metadata": {},
   "outputs": [
    {
     "data": {
      "text/plain": [
       "endeventaction (generic function with 1 method)"
      ]
     },
     "execution_count": 6,
     "metadata": {},
     "output_type": "execute_result"
    }
   ],
   "source": [
    "#---End Event Action-------------------------------------------------------------------------------\n",
    "function endeventaction(evt::G4Event, app::G4JLApplication)\n",
    "    hits = getSDdata(app, \"Chamber_SD\").trackerHits\n",
    "    eventID = evt |> GetEventID\n",
    "    if eventID < 10 || eventID % 100 == 0\n",
    "      G4JL_println(\"Event: $eventID with $(length(hits)) hits stored in this event\")\n",
    "    end\n",
    "    return\n",
    "  end"
   ]
  },
  {
   "cell_type": "markdown",
   "metadata": {},
   "source": [
    "#### Define the primary particle generator (Particle Gun)"
   ]
  },
  {
   "cell_type": "code",
   "execution_count": 7,
   "metadata": {},
   "outputs": [
    {
     "data": {
      "text/plain": [
       "G4JLGunGenerator(\"ParticleGun\", Geant4.G4JLParticleGunData(nothing, \"proton\", G4ThreeVector(0.0,0.0,1.0), G4ThreeVector(0.0,0.0,-2940.0), 3000.0), Geant4.var\"#init#23\"(), Geant4.var\"#gen#24\"(), G4JLGeneratorAction[])"
      ]
     },
     "execution_count": 7,
     "metadata": {},
     "output_type": "execute_result"
    }
   ],
   "source": [
    "particlegun = G4JLGunGenerator(particle = \"proton\", \n",
    "                               energy = 3GeV, \n",
    "                               direction = G4ThreeVector(0,0,1), \n",
    "                               position = G4ThreeVector(0,0,-2940.0))"
   ]
  },
  {
   "cell_type": "markdown",
   "metadata": {},
   "source": [
    "#### Instantiate a `G4JLApplication` with all the elements\n",
    "The G4RunManager is created at this moment"
   ]
  },
  {
   "cell_type": "code",
   "execution_count": 8,
   "metadata": {},
   "outputs": [
    {
     "name": "stdout",
     "output_type": "stream",
     "text": [
      "\n",
      "**************************************************************\n",
      " Geant4 version Name: geant4-11-01-patch-01 [MT]   (10-February-2023)\n",
      "                       Copyright : Geant4 Collaboration\n",
      "                      References : NIM A 506 (2003), 250-303\n",
      "                                 : IEEE-TNS 53 (2006), 270-278\n",
      "                                 : NIM A 835 (2016), 186-225\n",
      "                             WWW : http://geant4.org/\n",
      "**************************************************************\n",
      "\n"
     ]
    }
   ],
   "source": [
    "#---Create the Application-------------------------------------------------------------------------\n",
    "app = G4JLApplication( detector = B2aDetector(nChambers=5),          # detector with parameters\n",
    "                       generator = particlegun,                      # primary particle generator\n",
    "                       nthreads = 0,                                 # number of threads (MT)\n",
    "                       physics_type = FTFP_BERT,                     # what physics list to instantiate\n",
    "                       endeventaction_method = endeventaction,       # end event action\n",
    "                       sdetectors = [\"Chamber_LV+\" => chamber_SD]    # mapping of LVs to SDs (+ means multiple LVs with same name)\n",
    "                      );             "
   ]
  },
  {
   "cell_type": "markdown",
   "metadata": {},
   "source": [
    "#### Final steps\n",
    "Configure the application, initialize the run and fire the beam for 0 events to finalize all initializations"
   ]
  },
  {
   "cell_type": "code",
   "execution_count": 9,
   "metadata": {},
   "outputs": [],
   "source": [
    "configure(app)"
   ]
  },
  {
   "cell_type": "code",
   "execution_count": 10,
   "metadata": {},
   "outputs": [
    {
     "name": "stdout",
     "output_type": "stream",
     "text": [
      "Checking overlaps for volume Target:0 (G4Tubs) ... OK! \n",
      "Checking overlaps for volume Tracker:0 (G4Tubs) ... OK! \n",
      "Checking overlaps for volume Chamber_PV:1 (G4Tubs) ... OK! \n",
      "Checking overlaps for volume Chamber_PV:2 (G4Tubs) ... OK! \n",
      "Checking overlaps for volume Chamber_PV:3 (G4Tubs) ... OK! \n",
      "Checking overlaps for volume Chamber_PV:4 (G4Tubs) ... OK! \n",
      "Checking overlaps for volume Chamber_PV:5 (G4Tubs) ... OK! \n"
     ]
    }
   ],
   "source": [
    "initialize(app)"
   ]
  },
  {
   "cell_type": "code",
   "execution_count": 11,
   "metadata": {},
   "outputs": [],
   "source": [
    "beamOn(app, 0)"
   ]
  },
  {
   "cell_type": "code",
   "execution_count": 12,
   "metadata": {},
   "outputs": [],
   "source": [
    "#---Forcing the loading of G4Vis extension------------------------------------------\n",
    "using CairoMakie, Rotations, IGLWrap_jll  # to force loding G4Vis extension\n",
    "\n",
    "world = GetWorldVolume()\n",
    "draw(world)"
   ]
  },
  {
   "cell_type": "code",
   "execution_count": 13,
   "metadata": {},
   "outputs": [
    {
     "name": "stdout",
     "output_type": "stream",
     "text": [
      "Event: 0 with 53 hits stored in this event\n",
      "Event: 1 with 164 hits stored in this event\n",
      "Event: 2 with 109 hits stored in this event\n",
      "Event: 3 with 203 hits stored in this event\n",
      "Event: 4 with 244 hits stored in this event\n",
      "Event: 5 with 171 hits stored in this event\n",
      "Event: 6 with 99 hits stored in this event\n",
      "Event: 7 with 58 hits stored in this event\n",
      "Event: 8 with 122 hits stored in this event\n",
      "Event: 9 with 32 hits stored in this event\n"
     ]
    }
   ],
   "source": [
    "beamOn(app,10)"
   ]
  },
  {
   "cell_type": "code",
   "execution_count": 14,
   "metadata": {},
   "outputs": [
    {
     "name": "stdout",
     "output_type": "stream",
     "text": [
      "Event: 0 with 74 hits stored in this event\n",
      "Event: 1 with 633 hits stored in this event\n",
      "Event: 2 with 79 hits stored in this event\n",
      "Event: 3 with 106 hits stored in this event\n",
      "Event: 4 with 112 hits stored in this event\n",
      "Event: 5 with 137 hits stored in this event\n",
      "Event: 6 with 215 hits stored in this event\n",
      "Event: 7 with 81 hits stored in this event\n",
      "Event: 8 with 87 hits stored in this event\n",
      "Event: 9 with 103 hits stored in this event\n",
      "Event: 100 with 95 hits stored in this event\n",
      "Event: 200 with 408 hits stored in this event\n",
      "Event: 300 with 81 hits stored in this event\n",
      "Event: 400 with 97 hits stored in this event\n",
      "Event: 500 with 2 hits stored in this event\n",
      "Event: 600 with 117 hits stored in this event\n",
      "Event: 700 with 103 hits stored in this event\n",
      "Event: 800 with 78 hits stored in this event\n",
      "Event: 900 with 284 hits stored in this event\n",
      "  0.752347 seconds (648.05 k allocations: 11.449 MiB, 0.96% gc time)\n"
     ]
    }
   ],
   "source": [
    "@time beamOn(app,1000)"
   ]
  },
  {
   "cell_type": "code",
   "execution_count": 15,
   "metadata": {},
   "outputs": [],
   "source": [
    "SetParticleEnergy(particlegun, 500MeV)"
   ]
  },
  {
   "cell_type": "code",
   "execution_count": 16,
   "metadata": {},
   "outputs": [
    {
     "name": "stdout",
     "output_type": "stream",
     "text": [
      "Event: 0 with 347 hits stored in this event\n",
      "Event: 1 with 245 hits stored in this event\n",
      "Event: 2 with 144 hits stored in this event\n",
      "Event: 3 with 5 hits stored in this event\n",
      "Event: 4 with 201 hits stored in this event\n",
      "Event: 5 with 152 hits stored in this event\n",
      "Event: 6 with 0 hits stored in this event\n",
      "Event: 7 with 205 hits stored in this event\n",
      "Event: 8 with 240 hits stored in this event\n",
      "Event: 9 with 134 hits stored in this event\n",
      "Event: 100 with 112 hits stored in this event\n",
      "Event: 200 with 165 hits stored in this event\n",
      "Event: 300 with 142 hits stored in this event\n",
      "Event: 400 with 322 hits stored in this event\n",
      "Event: 500 with 166 hits stored in this event\n",
      "Event: 600 with 166 hits stored in this event\n",
      "Event: 700 with 142 hits stored in this event\n",
      "Event: 800 with 198 hits stored in this event\n",
      "Event: 900 with 205 hits stored in this event\n",
      "Event: 1000 with 176 hits stored in this event\n",
      "Event: 1100 with 147 hits stored in this event\n",
      "Event: 1200 with 1147 hits stored in this event\n",
      "Event: 1300 with 141 hits stored in this event\n",
      "Event: 1400 with 127 hits stored in this event\n",
      "Event: 1500 with 151 hits stored in this event\n",
      "Event: 1600 with 169 hits stored in this event\n",
      "Event: 1700 with 219 hits stored in this event\n",
      "Event: 1800 with 174 hits stored in this event\n",
      "Event: 1900 with 203 hits stored in this event\n",
      "Event: 2000 with 100 hits stored in this event\n",
      "Event: 2100 with 166 hits stored in this event\n",
      "Event: 2200 with 155 hits stored in this event\n",
      "Event: 2300 with 145 hits stored in this event\n",
      "Event: 2400 with 193 hits stored in this event\n",
      "Event: 2500 with 118 hits stored in this event\n",
      "Event: 2600 with 389 hits stored in this event\n",
      "Event: 2700 with 172 hits stored in this event\n",
      "Event: 2800 with 203 hits stored in this event\n",
      "Event: 2900 with 132 hits stored in this event\n",
      "Event: 3000 with 244 hits stored in this event\n",
      "Event: 3100 with 135 hits stored in this event\n",
      "Event: 3200 with 182 hits stored in this event\n",
      "Event: 3300 with 140 hits stored in this event\n",
      "Event: 3400 with 240 hits stored in this event\n",
      "Event: 3500 with 132 hits stored in this event\n",
      "Event: 3600 with 176 hits stored in this event\n",
      "Event: 3700 with 165 hits stored in this event\n",
      "Event: 3800 with 196 hits stored in this event\n",
      "Event: 3900 with 5 hits stored in this event\n",
      "Event: 4000 with 140 hits stored in this event\n",
      "Event: 4100 with 165 hits stored in this event\n",
      "Event: 4200 with 188 hits stored in this event\n",
      "Event: 4300 with 218 hits stored in this event\n",
      "Event: 4400 with 204 hits stored in this event\n",
      "Event: 4500 with 198 hits stored in this event\n",
      "Event: 4600 with 181 hits stored in this event\n",
      "Event: 4700 with 137 hits stored in this event\n",
      "Event: 4800 with 317 hits stored in this event\n",
      "Event: 4900 with 123 hits stored in this event\n",
      "Event: 5000 with 197 hits stored in this event\n",
      "Event: 5100 with 145 hits stored in this event\n",
      "Event: 5200 with 197 hits stored in this event\n",
      "Event: 5300 with 157 hits stored in this event\n",
      "Event: 5400 with 214 hits stored in this event\n",
      "Event: 5500 with 111 hits stored in this event\n",
      "Event: 5600 with 301 hits stored in this event\n",
      "Event: 5700 with 245 hits stored in this event\n",
      "Event: 5800 with 154 hits stored in this event\n",
      "Event: 5900 with 153 hits stored in this event\n",
      "Event: 6000 with 143 hits stored in this event\n",
      "Event: 6100 with 87 hits stored in this event\n",
      "Event: 6200 with 142 hits stored in this event\n",
      "Event: 6300 with 135 hits stored in this event\n",
      "Event: 6400 with 177 hits stored in this event\n",
      "Event: 6500 with 87 hits stored in this event\n",
      "Event: 6600 with 16 hits stored in this event\n",
      "Event: 6700 with 167 hits stored in this event\n",
      "Event: 6800 with 128 hits stored in this event\n",
      "Event: 6900 with 104 hits stored in this event\n",
      "Event: 7000 with 226 hits stored in this event\n",
      "Event: 7100 with 167 hits stored in this event\n",
      "Event: 7200 with 197 hits stored in this event\n",
      "Event: 7300 with 125 hits stored in this event\n",
      "Event: 7400 with 0 hits stored in this event\n",
      "Event: 7500 with 114 hits stored in this event\n",
      "Event: 7600 with 4 hits stored in this event\n",
      "Event: 7700 with 130 hits stored in this event\n",
      "Event: 7800 with 175 hits stored in this event\n",
      "Event: 7900 with 123 hits stored in this event\n",
      "Event: 8000 with 165 hits stored in this event\n",
      "Event: 8100 with 172 hits stored in this event\n",
      "Event: 8200 with 292 hits stored in this event\n",
      "Event: 8300 with 124 hits stored in this event\n",
      "Event: 8400 with 5 hits stored in this event\n",
      "Event: 8500 with 229 hits stored in this event\n",
      "Event: 8600 with 142 hits stored in this event\n",
      "Event: 8700 with 161 hits stored in this event\n",
      "Event: 8800 with 173 hits stored in this event\n",
      "Event: 8900 with 159 hits stored in this event\n",
      "Event: 9000 with 196 hits stored in this event\n",
      "Event: 9100 with 172 hits stored in this event\n",
      "Event: 9200 with 226 hits stored in this event\n",
      "Event: 9300 with 10 hits stored in this event\n",
      "Event: 9400 with 199 hits stored in this event\n",
      "Event: 9500 with 165 hits stored in this event\n",
      "Event: 9600 with 139 hits stored in this event\n",
      "Event: 9700 with 187 hits stored in this event\n",
      "Event: 9800 with 167 hits stored in this event\n",
      "Event: 9900 with 166 hits stored in this event\n",
      "  4.921432 seconds (6.93 M allocations: 105.797 MiB, 0.26% gc time)\n"
     ]
    }
   ],
   "source": [
    "@time beamOn(app,10000)"
   ]
  },
  {
   "cell_type": "code",
   "execution_count": 17,
   "metadata": {},
   "outputs": [
    {
     "name": "stdout",
     "output_type": "stream",
     "text": [
      "\u001b[32m\u001b[1mStatus\u001b[22m\u001b[39m `~/Development/Geant4.jl/docs/Project.toml`\n",
      "  \u001b[90m[6e4b80f9] \u001b[39mBenchmarkTools v1.3.2\n",
      "  \u001b[90m[13f3f980] \u001b[39mCairoMakie v0.10.8\n",
      "  \u001b[90m[e30172f5] \u001b[39mDocumenter v0.27.25\n",
      "  \u001b[90m[68837c9b] \u001b[39mFHist v0.10.2\n",
      "  \u001b[90m[559df036] \u001b[39mGeant4 v0.1.7 `~/Development/Geant4.jl`\n",
      "  \u001b[90m[5c1252a2] \u001b[39mGeometryBasics v0.4.9\n",
      "  \u001b[90m[7073ff75] \u001b[39mIJulia v1.24.2\n",
      "  \u001b[90m[91a5bcdd] \u001b[39mPlots v1.39.0\n",
      "  \u001b[90m[6038ab10] \u001b[39mRotations v1.5.1\n",
      "  \u001b[90m[90137ffa] \u001b[39mStaticArrays v1.6.2\n",
      "  \u001b[90m[276b4fcb] \u001b[39mWGLMakie v0.8.12\n",
      "  \u001b[90m[283677c1] \u001b[39mIGLWrap_jll v2.4.0+0\n"
     ]
    }
   ],
   "source": [
    "]st"
   ]
  },
  {
   "cell_type": "code",
   "execution_count": null,
   "metadata": {},
   "outputs": [],
   "source": []
  }
 ],
 "metadata": {
  "@webio": {
   "lastCommId": null,
   "lastKernelId": null
  },
  "kernelspec": {
   "display_name": "Julia 1.9.2",
   "language": "julia",
   "name": "julia-1.9"
  },
  "language_info": {
   "file_extension": ".jl",
   "mimetype": "application/julia",
   "name": "julia",
   "version": "1.9.2"
  }
 },
 "nbformat": 4,
 "nbformat_minor": 2
}
