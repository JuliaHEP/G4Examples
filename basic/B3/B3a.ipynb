{
 "cells": [
  {
   "cell_type": "markdown",
   "metadata": {},
   "source": [
    "# Basic/B3a Example\n",
    "It is equivalent to the B2a example in Geant4 but re-written with a new more Julia friendly interface. See [README](https://raw.githubusercontent.com/Geant4/geant4/master/examples/basic/B3/README) file for the example."
   ]
  },
  {
   "cell_type": "code",
   "execution_count": null,
   "metadata": {},
   "outputs": [],
   "source": [
    "using Geant4\n",
    "using Geant4.SystemOfUnits\n",
    "using Printf, GeometryBasics"
   ]
  },
  {
   "cell_type": "markdown",
   "metadata": {},
   "source": [
    "## Define Detector Parameters struct"
   ]
  },
  {
   "cell_type": "code",
   "execution_count": null,
   "metadata": {},
   "outputs": [],
   "source": [
    "include(joinpath(@__DIR__, \"DetectorB3.jl\"))"
   ]
  },
  {
   "cell_type": "markdown",
   "metadata": {},
   "source": [
    "## Physics List"
   ]
  },
  {
   "cell_type": "code",
   "execution_count": null,
   "metadata": {},
   "outputs": [],
   "source": [
    "struct PhysicsB3a <: G4VUserPhysicsList\n",
    "    function PhysicsB3a(verbose)\n",
    "        pl = G4VModularPhysicsList()\n",
    "        RegisterPhysics(pl, move!(G4DecayPhysics(verbose)))           # Default physics\n",
    "        RegisterPhysics(pl, move!(G4EmStandardPhysics(verbose)))      # EM physics\n",
    "        RegisterPhysics(pl, move!(G4RadioactiveDecayPhysics(verbose))) # Radioactive decay\n",
    "        return pl\n",
    "    end\n",
    "end"
   ]
  },
  {
   "cell_type": "markdown",
   "metadata": {},
   "source": [
    "## Primary Particle Generator"
   ]
  },
  {
   "cell_type": "code",
   "execution_count": null,
   "metadata": {},
   "outputs": [],
   "source": [
    "@with_kw mutable struct GeneratorB3aData <: G4JLGeneratorData\n",
    "    gun::Union{Nothing, CxxPtr{G4ParticleGun}} = nothing\n",
    "    ion::Union{Nothing, CxxPtr{G4ParticleDefinition}} = nothing\n",
    "    Z::Int64 = 9\n",
    "    A::Int64 = 18\n",
    "    ionCharge::Float64 = 0eplus\n",
    "    excitEnergy::Float64 = 0keV\n",
    "    position::G4ThreeVector = G4ThreeVector(4cm,4cm,4cm)\n",
    "    direction::G4ThreeVector = G4ThreeVector(1,0,0)\n",
    "end\n",
    "function GeneratorB3a(;kwargs...)\n",
    "    data = GeneratorB3aData(;kwargs...)\n",
    "    function _init(data::GeneratorB3aData, ::Any)\n",
    "        gun = data.gun = move!(G4ParticleGun())\n",
    "        SetParticleMomentumDirection(gun, G4ThreeVector(1,0,0))\n",
    "    end\n",
    "    function _gen(evt::G4Event, data::GeneratorB3aData)::Nothing\n",
    "        if isnothing(data.ion)  # late initialize (after physics processes)\n",
    "            ion = data.ion = GetIon(data.Z, data.A, data.excitEnergy)\n",
    "            SetParticleDefinition(data.gun, ion)\n",
    "            SetParticleCharge(data.gun, data.ionCharge)\n",
    "        end\n",
    "        position = data.position + G4ThreeVector((rand()-0.5)*1cm, (rand()-0.5)*1cm, (rand()-0.5)*1cm)\n",
    "        SetParticlePosition(data.gun, position)\n",
    "        GeneratePrimaryVertex(data.gun, CxxPtr(evt))\n",
    "    end\n",
    "    G4JLPrimaryGenerator(\"GeneratorB3a\", data; init_method=_init, generate_method=_gen)\n",
    "end"
   ]
  },
  {
   "cell_type": "markdown",
   "metadata": {},
   "source": [
    "## Define the simulation data structures"
   ]
  },
  {
   "cell_type": "code",
   "execution_count": null,
   "metadata": {},
   "outputs": [],
   "source": [
    "mutable struct SimDataB3a <: G4JLSimulationData\n",
    "    #---Run data\n",
    "    goodEvents::Int64\n",
    "    sumDose::Float64\n",
    "    SimDataB3a() = new(0,0)\n",
    "end\n",
    "function add!(x::SimDataB3a, y::SimDataB3a)\n",
    "    x.goodEvents += y.goodEvents\n",
    "    x.sumDose += y.sumDose\n",
    "end"
   ]
  },
  {
   "cell_type": "markdown",
   "metadata": {},
   "source": [
    "## Sensitive Detector Crystal"
   ]
  },
  {
   "cell_type": "code",
   "execution_count": null,
   "metadata": {},
   "outputs": [],
   "source": [
    "struct CrystalData <: G4JLSDData\n",
    "    edep::Dict{Int64,Float64} # (CopyNo, Edep)\n",
    "    CrystalData() = new(Dict{Int64,Float64}())\n",
    "end\n",
    "function c_initialize(::G4HCofThisEvent, data::CrystalData)::Nothing\n",
    "    empty!(data.edep)\n",
    "    return\n",
    "end\n",
    "function c_processHits(step::G4Step, ::G4TouchableHistory, data::CrystalData)::Bool\n",
    "    edep = step |> GetTotalEnergyDeposit\n",
    "    edep <  0. && return false\n",
    "    copy = step |> GetPreStepPoint |> GetTouchable |> GetCopyNumber\n",
    "    data.edep[copy] = haskey(data.edep, copy) ? data.edep[copy] + edep : edep\n",
    "    return true\n",
    "end\n",
    "#---Create SD instance\n",
    "crystalSD = G4JLSensitiveDetector(\"CrystalSD\", CrystalData();          # SD name an associated data are mandatory\n",
    "                                   processhits_method=c_processHits,   # process hist method (also mandatory)\n",
    "                                   initialize_method=c_initialize)     # intialize method\n"
   ]
  },
  {
   "cell_type": "markdown",
   "metadata": {},
   "source": [
    "## Sensitive Detector Patient"
   ]
  },
  {
   "cell_type": "code",
   "execution_count": null,
   "metadata": {},
   "outputs": [],
   "source": [
    "mutable struct PatientData <: G4JLSDData\n",
    "    dose::Float64\n",
    "    PatientData() = new(0)\n",
    "end\n",
    "function p_initialize(::G4HCofThisEvent, data::PatientData)::Nothing\n",
    "    data.dose = 0\n",
    "    return\n",
    "end\n",
    "function p_processHits(step::G4Step, ::G4TouchableHistory, data::PatientData)::Bool\n",
    "    edep = step |> GetTotalEnergyDeposit\n",
    "    edep <  0. && return false\n",
    "    volume  = step |> GetPreStepPoint |> GetTouchable |> GetSolid |> GetCubicVolume\n",
    "    density = step |> GetPreStepPoint |> GetMaterial |> GetDensity\n",
    "    data.dose += edep /(density * volume)\n",
    "    return true\n",
    "end\n",
    "#---Create SD instance\n",
    "patientSD = G4JLSensitiveDetector(\"PatientSD\", PatientData();           # SD name an associated data are mandatory\n",
    "                                   processhits_method=p_processHits,    # process hist method (also mandatory)\n",
    "                                   initialize_method=p_initialize)      # intialize method\n"
   ]
  },
  {
   "cell_type": "markdown",
   "metadata": {},
   "source": [
    "## User Actions"
   ]
  },
  {
   "cell_type": "code",
   "execution_count": null,
   "metadata": {},
   "outputs": [],
   "source": [
    "function beginrun(run::G4Run, app::G4JLApplication)::Nothing\n",
    "    data = getSIMdata(app)\n",
    "    data.goodEvents = 0\n",
    "    data.sumDose = 0.\n",
    "    nothing\n",
    "end\n",
    "μGy = Geant4.SystemOfUnits.gray/1e6\n",
    "function endrun(run::G4Run, app::G4JLApplication)::Nothing\n",
    "    partName = app.generator.data.gun |> GetParticleDefinition |> GetParticleName |> String\n",
    "    #---end run action is called for each workwer thread and the master one\n",
    "    if G4Threading!G4GetThreadId() == -1\n",
    "        data = app.simdata[1]\n",
    "        #---This is the master thread, so we need to add all the simuation results-----------------\n",
    "        for d in app.simdata[2:end]\n",
    "            add!(data, d)\n",
    "        end\n",
    "        noEvents = run |> GetNumberOfEvent\n",
    "        G4JL_println(\"\"\"\n",
    "                     --------------------End of Run------------------------------\n",
    "                      The run was $noEvents $partName Nb of 'good' e+ annihilations: $(data.goodEvents)\n",
    "                      Total dose in patient : $(data.sumDose/μGy) μGy\n",
    "                     ------------------------------------------------------------ \n",
    "                     \"\"\")\n",
    "    end\n",
    "end \n",
    "#---Event Action\n",
    "function endevent(evt::G4Event, app::G4JLApplication)\n",
    "    edep = getSDdata(app, \"CrystalSD\").edep\n",
    "    dose = getSDdata(app, \"PatientSD\").dose\n",
    "    data = getSIMdata(app)\n",
    "    if count(>(500keV), values(edep)) == 2\n",
    "        data.goodEvents += 1\n",
    "    end\n",
    "    data.sumDose += dose\n",
    "    return\n",
    "end\n",
    "#---Stacking Action\n",
    "let G4NeutrinoE, first=true\n",
    "global function stacking(trk::G4Track, app::G4JLApplication)::G4ClassificationOfNewTrack\n",
    "    if first  # emulation of C++ static \n",
    "        G4NeutrinoE = FindParticle(\"nu_e\")\n",
    "        first = false\n",
    "    end\n",
    "    (trk |> GetParentID) == 0 && return fUrgent               # keep primary particle\n",
    "    (trk |> GetDefinition) == G4NeutrinoE && return fKill     # kill neutrino\n",
    "    return fUrgent\n",
    "end\n",
    "end"
   ]
  },
  {
   "cell_type": "markdown",
   "metadata": {},
   "source": [
    "## Geant4 Application"
   ]
  },
  {
   "cell_type": "code",
   "execution_count": null,
   "metadata": {},
   "outputs": [],
   "source": [
    "#---Application------------------------------------------------------------------------------------\n",
    "app = G4JLApplication(; detector = DetectorB3(),                      # detector with parameters\n",
    "                        simdata = SimDataB3a(),                       # simulation data structure\n",
    "                        generator = GeneratorB3a(),                   # primary particle generator\n",
    "                        nthreads = 0,                                 # # of threads (0 = no MT)\n",
    "                        physics_type = PhysicsB3a,                    # what physics list to instantiate\n",
    "                        #evtdisplay =  display,                        # set event display \n",
    "                        endeventaction_method = endevent,             # end-event action (fill histograms per event)\n",
    "                        beginrunaction_method = beginrun,             # begin run action\n",
    "                        endrunaction_method = endrun,                 # end run action\n",
    "                        stackaction_method = stacking,                # track classification action\n",
    "                        sdetectors = [\"CrystalLV+\" => crystalSD,\n",
    "                                      \"PatientLV\" => patientSD]       # mapping of LVs to SDs (+ means multiple LVs with same name)\n",
    "                      );\n",
    "\n",
    "configure(app)\n",
    "initialize(app)"
   ]
  },
  {
   "cell_type": "markdown",
   "metadata": {},
   "source": [
    "## Display Detector"
   ]
  },
  {
   "cell_type": "code",
   "execution_count": null,
   "metadata": {},
   "outputs": [],
   "source": [
    "using CairoMakie, Rotations, IGLWrap_jll  # to force loding G4Vis extension\n",
    "\n",
    "world = GetWorldVolume()\n",
    "img = draw(world)\n",
    "display(\"image/png\", img)"
   ]
  },
  {
   "cell_type": "code",
   "execution_count": null,
   "metadata": {},
   "outputs": [],
   "source": [
    "beamOn(app, 10000)"
   ]
  },
  {
   "cell_type": "code",
   "execution_count": null,
   "metadata": {},
   "outputs": [],
   "source": []
  }
 ],
 "metadata": {
  "kernelspec": {
   "display_name": "Julia 1.10.0",
   "language": "julia",
   "name": "julia-1.10"
  },
  "language_info": {
   "file_extension": ".jl",
   "mimetype": "application/julia",
   "name": "julia",
   "version": "1.10.0"
  }
 },
 "nbformat": 4,
 "nbformat_minor": 2
}
