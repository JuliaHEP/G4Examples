{
 "cells": [
  {
   "cell_type": "markdown",
   "metadata": {},
   "source": [
    "# Extended/RE03 Example\n",
    "This example demonstrates how to use UI-command base scoring.\n",
    "Its create parallel world(s) for defining scoring mesh(es)."
   ]
  },
  {
   "cell_type": "markdown",
   "metadata": {},
   "source": [
    "Due to some performance overhead, this functionality is not provided by default.\n",
    "To enable it, you need to set the parameter `scores` in `G4JLApplication` with a list of scorers"
   ]
  },
  {
   "cell_type": "markdown",
   "metadata": {},
   "source": [
    "The geometry consists of one water box in the world volume filled by air. Particle gun shoots a gamma\n",
    "into the water box. The physics list is taken from referenced physics-list `FTFP_BERT`` in Geant4."
   ]
  },
  {
   "cell_type": "markdown",
   "metadata": {},
   "source": [
    "## Loading the necessary Julia modules\n",
    "Load the `Geant4`, `Geant4.PhysicalConstants` and `Geant4.SystemOfUnits` modules. In addition we will use the `Parameters` module to handle the parameters of the detector.\n",
    "We will also use the `FHist` and `Plots` modules to handle the histograms and plots."
   ]
  },
  {
   "cell_type": "code",
   "execution_count": null,
   "metadata": {},
   "outputs": [],
   "source": [
    "using Geant4\n",
    "using Geant4.SystemOfUnits"
   ]
  },
  {
   "cell_type": "markdown",
   "metadata": {},
   "source": [
    "## Define Detector structure\n",
    "The RE03 detector is a simple box filled with air. The detector is defined by the `RE03Detector` structure.\n",
    "We include the RE03Detector.jl file not to clutter the example."
   ]
  },
  {
   "cell_type": "code",
   "execution_count": null,
   "metadata": {},
   "outputs": [],
   "source": [
    "include(joinpath(@__DIR__, \"RE03Detector.jl\"))"
   ]
  },
  {
   "cell_type": "markdown",
   "metadata": {},
   "source": [
    "## Particle Gun initialization"
   ]
  },
  {
   "cell_type": "code",
   "execution_count": null,
   "metadata": {},
   "outputs": [],
   "source": [
    "particlegun = G4JLGunGenerator(particle = \"e-\",\n",
    "                               energy = 1GeV,\n",
    "                               direction = G4ThreeVector(0,0,1),\n",
    "                               position = G4ThreeVector(0,0,-1.01m))"
   ]
  },
  {
   "cell_type": "markdown",
   "metadata": {},
   "source": [
    "## Scoring Setup\n",
    "In this example, we define a scoring mesh that will score the energy deposit and the number of\n",
    "steps of gamma, e- and e+ particles. We do not use the UI interface to define the scoring mesh, instead\n",
    "we define it in the Julia code by instantiating a `G4JLScoringMesh` object."
   ]
  },
  {
   "cell_type": "code",
   "execution_count": null,
   "metadata": {},
   "outputs": [],
   "source": [
    "sc1 = G4JLScoringMesh(\"boxMesh_1\",\n",
    "                      BoxMesh(1m,1m,1m),\n",
    "                      bins = (30, 30, 30),\n",
    "                      quantities = [ energyDeposit(\"eDep\")\n",
    "                                     nOfStep(\"nOfStepGamma\", filters=[ParticleFilter(\"gammafilter\", \"gamma\")])\n",
    "                                     nOfStep(\"nOfStepEMinus\", filters=[ParticleFilter(\"eMinusFilter\", \"e-\")])\n",
    "                                     nOfStep(\"nOfStepEPlus\", filters=[ParticleFilter(\"ePlusFilter\", \"e+\")])\n",
    "                                   ]\n",
    "                      );"
   ]
  },
  {
   "cell_type": "markdown",
   "metadata": {},
   "source": [
    "## Create the Application"
   ]
  },
  {
   "cell_type": "code",
   "execution_count": null,
   "metadata": {},
   "outputs": [],
   "source": [
    "app = G4JLApplication(;detector = RE03Detector(),                    ## detector with parameters\n",
    "                       generator = particlegun,                      ## primary particle generator\n",
    "                       nthreads = 4,                                 ## number of threads (MT)\n",
    "                       physics_type = FTFP_BERT,                     ## what physics list to instantiate\n",
    "                       scorers = [sc1]                               ## list of scorers\n",
    "                      );"
   ]
  },
  {
   "cell_type": "markdown",
   "metadata": {},
   "source": [
    "## Configure, Initialize and Run"
   ]
  },
  {
   "cell_type": "code",
   "execution_count": null,
   "metadata": {},
   "outputs": [],
   "source": [
    "configure(app)\n",
    "initialize(app)\n",
    "beamOn(app, 0)"
   ]
  },
  {
   "cell_type": "markdown",
   "metadata": {},
   "source": [
    "## Do a run and get the scoring results"
   ]
  },
  {
   "cell_type": "code",
   "execution_count": null,
   "metadata": {},
   "outputs": [],
   "source": [
    "beamOn(app,1000)\n",
    "println(\"done with run!!!\")"
   ]
  },
  {
   "cell_type": "markdown",
   "metadata": {},
   "source": [
    "## Access the scoring results\n",
    "This is done by accessing the `eDep` field of the `G4JLScoringMesh` object `sc1`, or by accessing\n",
    "the fields `nOfStepGamma`, `nOfStepEMinus` or `nOfStepEPlus`. Each of each of these fields\n",
    "returns a tuple with the scoring results (mean, mean², N) organized in a 3-dimensional matrix with the\n",
    "defined number of bins."
   ]
  },
  {
   "cell_type": "code",
   "execution_count": null,
   "metadata": {},
   "outputs": [],
   "source": [
    "t, t2, n = sc1.eDep"
   ]
  },
  {
   "cell_type": "markdown",
   "metadata": {},
   "source": [
    "Lets see the dimensions of the scoring results"
   ]
  },
  {
   "cell_type": "code",
   "execution_count": null,
   "metadata": {},
   "outputs": [],
   "source": [
    "println(\"Dimensions of the scoring results: $(Base.size(t))\")"
   ]
  },
  {
   "cell_type": "markdown",
   "metadata": {},
   "source": [
    "Print the total energy deposit"
   ]
  },
  {
   "cell_type": "code",
   "execution_count": null,
   "metadata": {},
   "outputs": [],
   "source": [
    "println(\"Total EDep = $(sum(t))\")\n",
    "println(\"Central EDep = $(sum(t[10:20,10:20,:]))\")"
   ]
  },
  {
   "cell_type": "markdown",
   "metadata": {},
   "source": [
    "## Plot the scoring results\n",
    "We will use the `CairoMakie` package to plot the scoring results. We will plot the energy deposit in the\n",
    "center of the scoring mesh."
   ]
  },
  {
   "cell_type": "code",
   "execution_count": null,
   "metadata": {},
   "outputs": [],
   "source": [
    "using CairoMakie\n",
    "img = heatmap(t[1:30,15,1:30])\n",
    "display(\"image/png\", img)"
   ]
  },
  {
   "cell_type": "markdown",
   "metadata": {},
   "source": [
    "---\n",
    "\n",
    "*This notebook was generated using [Literate.jl](https://github.com/fredrikekre/Literate.jl).*"
   ]
  }
 ],
 "metadata": {
  "kernelspec": {
   "display_name": "Julia 1.11.1",
   "language": "julia",
   "name": "julia-1.11"
  },
  "language_info": {
   "file_extension": ".jl",
   "mimetype": "application/julia",
   "name": "julia",
   "version": "1.11.1"
  }
 },
 "nbformat": 4,
 "nbformat_minor": 3
}
